{
  "nbformat": 4,
  "nbformat_minor": 0,
  "metadata": {
    "colab": {
      "provenance": []
    },
    "kernelspec": {
      "name": "python3",
      "display_name": "Python 3"
    },
    "language_info": {
      "name": "python"
    }
  },
  "cells": [
    {
      "cell_type": "markdown",
      "source": [
        "# ==============================\n",
        "# TASK 7: Basic Sales Summary using SQLite in Python\n",
        "# =============================="
      ],
      "metadata": {
        "id": "lPvGuSWG1ye4"
      }
    },
    {
      "cell_type": "markdown",
      "source": [
        "Load CSV into Pandas and SQLite"
      ],
      "metadata": {
        "id": "TLi14u281b9H"
      }
    },
    {
      "cell_type": "code",
      "execution_count": 6,
      "metadata": {
        "colab": {
          "base_uri": "https://localhost:8080/"
        },
        "id": "kQHKXjWyztSA",
        "outputId": "7314fdbd-8d90-4ee2-d494-34b097f96484"
      },
      "outputs": [
        {
          "output_type": "stream",
          "name": "stdout",
          "text": [
            "\n",
            " Preview of Uploaded Data:\n",
            "   product_id   sale_date sales_rep region  sales_amount  quantity_sold  \\\n",
            "0        1052  03-02-2023       Bob  North       5053.97             18   \n",
            "1        1093  21-04-2023       Bob   West       4384.02             17   \n",
            "2        1015  21-09-2023     David  South       4631.23             30   \n",
            "3        1072  24-08-2023       Bob  South       2167.94             39   \n",
            "4        1061  24-03-2023   Charlie   East       3750.20             13   \n",
            "\n",
            "  product_category  unit_cost  unit_price customer_type  discount  \\\n",
            "0        Furniture     152.75      267.22     returning      0.09   \n",
            "1        Furniture    3816.39     4209.44     returning      0.11   \n",
            "2             Food     261.56      371.40     returning      0.20   \n",
            "3         Clothing    4330.03     4467.75           new      0.02   \n",
            "4      Electronics     637.37      692.71           new      0.08   \n",
            "\n",
            "  payment_method sales_channel region_and_sales_rep  \n",
            "0           Cash        Online            North-Bob  \n",
            "1           Cash        Retail             West-Bob  \n",
            "2  Bank Transfer        Retail          South-David  \n",
            "3    Credit Card        Retail            South-Bob  \n",
            "4    Credit Card        Online         East-Charlie  \n"
          ]
        },
        {
          "output_type": "execute_result",
          "data": {
            "text/plain": [
              "1000"
            ]
          },
          "metadata": {},
          "execution_count": 6
        }
      ],
      "source": [
        "import pandas as pd\n",
        "import sqlite3\n",
        "\n",
        "# Load CSV into Pandas\n",
        "df = pd.read_csv(\"/content/sales_data_cleaned.csv\")\n",
        "# Display first few rows\n",
        "print(\"\\n Preview of Uploaded Data:\")\n",
        "print(df.head())\n",
        "\n",
        "# Connect to in-memory SQLite DB\n",
        "conn = sqlite3.connect(\":memory:\")\n",
        "\n",
        "# Write DataFrame to SQLite table\n",
        "df.to_sql(\"sales\", conn, index=False, if_exists=\"replace\")\n"
      ]
    },
    {
      "cell_type": "markdown",
      "source": [
        "Step 4 — SQL Query: Total quantity & revenue by product"
      ],
      "metadata": {
        "id": "OwywPji01i-4"
      }
    },
    {
      "cell_type": "code",
      "source": [
        "query = \"\"\"\n",
        "SELECT\n",
        "    product_id,\n",
        "    SUM(quantity_sold) AS total_quantity,\n",
        "    SUM(quantity_sold * unit_price) AS total_revenue\n",
        "FROM sales\n",
        "GROUP BY product_id\n",
        "ORDER BY total_revenue DESC\n",
        "\"\"\"\n",
        "\n",
        "sales_summary = pd.read_sql_query(query, conn)\n",
        "\n",
        "print(\"\\nSales Summary Table:\")\n",
        "print(sales_summary)\n"
      ],
      "metadata": {
        "colab": {
          "base_uri": "https://localhost:8080/"
        },
        "id": "Z1EN0iJ81A8x",
        "outputId": "3b5cf9e2-ce9c-4559-f4b8-eec0efbd5944"
      },
      "execution_count": 8,
      "outputs": [
        {
          "output_type": "stream",
          "name": "stdout",
          "text": [
            "\n",
            "Sales Summary Table:\n",
            "    product_id  total_quantity  total_revenue\n",
            "0         1090             590     1819857.91\n",
            "1         1092             548     1738987.88\n",
            "2         1099             502     1635859.89\n",
            "3         1089             390     1445192.74\n",
            "4         1054             348     1256881.40\n",
            "..         ...             ...            ...\n",
            "95        1065             105      296587.77\n",
            "96        1041             151      288497.74\n",
            "97        1011              75      244328.35\n",
            "98        1031              64      223359.48\n",
            "99        1043              65      191699.04\n",
            "\n",
            "[100 rows x 3 columns]\n"
          ]
        }
      ]
    },
    {
      "cell_type": "markdown",
      "source": [
        "Simple Bar Chart for revenue"
      ],
      "metadata": {
        "id": "slBMhzzR1mJ6"
      }
    },
    {
      "cell_type": "code",
      "source": [
        "import matplotlib.pyplot as plt\n",
        "\n",
        "plt.figure(figsize=(8,5))\n",
        "plt.bar(sales_summary['product_id'], sales_summary['total_revenue'], color='skyblue')\n",
        "plt.xlabel(\"Product ID\")\n",
        "plt.ylabel(\"Total Revenue\")\n",
        "plt.title(\"Total Revenue by Product\")\n",
        "plt.xticks(rotation=45)\n",
        "plt.tight_layout()\n",
        "plt.show()\n"
      ],
      "metadata": {
        "colab": {
          "base_uri": "https://localhost:8080/",
          "height": 417
        },
        "id": "8VvyYwOO1Du-",
        "outputId": "d86a90aa-cb4c-40ac-f826-33678aef9d3f"
      },
      "execution_count": 3,
      "outputs": [
        {
          "output_type": "display_data",
          "data": {
            "text/plain": [
              "<Figure size 800x500 with 1 Axes>"
            ],
            "image/png": "[encoded data removed]"
          },
          "metadata": {}
        }
      ]
    },
    {
      "cell_type": "code",
      "source": [
        "#Save Chart\n",
        "plt.savefig(\"sales_chart.png\")\n"
      ],
      "metadata": {
        "colab": {
          "base_uri": "https://localhost:8080/",
          "height": 34
        },
        "id": "eCf3Vg7k1HFY",
        "outputId": "9b703806-c630-4ac4-d70e-7a2ed72d5c96"
      },
      "execution_count": 4,
      "outputs": [
        {
          "output_type": "display_data",
          "data": {
            "text/plain": [
              "<Figure size 640x480 with 0 Axes>"
            ]
          },
          "metadata": {}
        }
      ]
    },
    {
      "cell_type": "code",
      "source": [],
      "metadata": {
        "id": "yZSsJQyA1J36"
      },
      "execution_count": null,
      "outputs": []
    }
  ]
}